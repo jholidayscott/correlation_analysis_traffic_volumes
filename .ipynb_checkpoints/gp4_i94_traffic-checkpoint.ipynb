{
 "cells": [
  {
   "cell_type": "markdown",
   "metadata": {
    "id": "k7eUdI8efRrh"
   },
   "source": [
    "# Finding Indicators of Heavy Traffic on I-94\n",
    "\n",
    "## Aim\n",
    "Identify correlations between environmental variables such as weather and time of day and high traffic volumes in order to better target strategies to reduce the negative impacts of slow-moving traffic on the local economy.\n",
    "\n",
    "## Methodology\n",
    "Data is likely parametric and monotonic, perhaps linear for date and time and the data set is large enough at 48k rows for any calculation.\n",
    "\n",
    "Therefore, correlations can best be calculated using:\n",
    "- Pearson coefficient for continuous data.\n",
    "- Spearman rank coefficient for categorical data.\n",
    "\n",
    "## Results\n",
    "### Time Distributions\n",
    "- Traffic is busier on working days\n",
    "- Traffic is busiest during communiting times: 07:00 and 16:00\n",
    "- Traffic is heavier in the warmer summer months\n",
    "\n",
    "### Weather Correlations\n",
    "- Traffic volume is most reduced by visibility-related weather conditions such as fog and drizzle\n",
    "- Traffic volume is also reduced by light rain and snow and freezing rain"
   ]
  },
  {
   "cell_type": "markdown",
   "metadata": {
    "id": "XN6XAhwaW17U"
   },
   "source": [
    "# Data Set\n",
    "## Source:\n",
    "John Hogue, john.d.hogue '@' live.com, Social Data Science & General Mills\n",
    "\n",
    "Available from the [UCI Machine Learning Repository](https://archive.ics.uci.edu/ml/datasets/Metro+Interstate+Traffic+Volume).\n",
    "\n",
    "## Data Set Information:\n",
    "Hourly Interstate 94 Westbound traffic volume for MN DoT ATR station 301, roughly midway between Minneapolis and St Paul, MN. Hourly weather features and holidays included for impacts on traffic volume.\n",
    "\n",
    "\n",
    "\n",
    "## Data Dictionary\n",
    "|#|column|Variable|Description|\n",
    "|---| :---- |  :---   |  :------   |\n",
    "|0|holiday|Categorical|US National holidays plus regional holiday, Minnesota State Fair\n",
    "|1|temp| Numeric| Average temp in kelvin\n",
    "|2|rain_1h| Numeric| Amount in mm of rain that occurred in the hour\n",
    "|3|snow_1h| Numeric| Amount in mm of snow that occurred in the hour\n",
    "|4|clouds_all| Numeric| Percentage of cloud cover\n",
    "|5|weather_main| Categorical| Short textual description of the current weather\n",
    "|6|weather_description| Categorical| Longer textual description of the current weather\n",
    "|7|date_time| DateTime| Hour of the data collected in local CST time\n",
    "|8|traffic_volume| Numeric| Hourly I-94 ATR 301 reported westbound traffic volume"
   ]
  },
  {
   "cell_type": "code",
   "execution_count": 2,
   "metadata": {},
   "outputs": [],
   "source": [
    "import matplotlib.pyplot as plt\n",
    "%matplotlib inline"
   ]
  },
  {
   "cell_type": "code",
   "execution_count": 3,
   "metadata": {
    "colab": {
     "base_uri": "https://localhost:8080/"
    },
    "id": "zWWgykgmazXY",
    "outputId": "c620983b-e440-4f36-b650-83b6b39cea8b"
   },
   "outputs": [
    {
     "name": "stdout",
     "output_type": "stream",
     "text": [
      "<class 'pandas.core.frame.DataFrame'>\n",
      "RangeIndex: 48204 entries, 0 to 48203\n",
      "Data columns (total 9 columns):\n",
      " #   Column               Non-Null Count  Dtype  \n",
      "---  ------               --------------  -----  \n",
      " 0   holiday              48204 non-null  object \n",
      " 1   temp                 48204 non-null  float64\n",
      " 2   rain_1h              48204 non-null  float64\n",
      " 3   snow_1h              48204 non-null  float64\n",
      " 4   clouds_all           48204 non-null  int64  \n",
      " 5   weather_main         48204 non-null  object \n",
      " 6   weather_description  48204 non-null  object \n",
      " 7   date_time            48204 non-null  object \n",
      " 8   traffic_volume       48204 non-null  int64  \n",
      "dtypes: float64(3), int64(2), object(4)\n",
      "memory usage: 3.3+ MB\n"
     ]
    }
   ],
   "source": [
    "import pandas as pd\n",
    "traffic = pd.read_csv('Metro_Interstate_Traffic_Volume.csv')\n",
    "traffic.info()"
   ]
  },
  {
   "cell_type": "code",
   "execution_count": 4,
   "metadata": {
    "colab": {
     "base_uri": "https://localhost:8080/",
     "height": 204
    },
    "id": "ci7zi5ZtbxFf",
    "outputId": "ed2701d1-ba06-4634-d572-14f7ccf82e8c"
   },
   "outputs": [
    {
     "data": {
      "text/html": [
       "<div>\n",
       "<style scoped>\n",
       "    .dataframe tbody tr th:only-of-type {\n",
       "        vertical-align: middle;\n",
       "    }\n",
       "\n",
       "    .dataframe tbody tr th {\n",
       "        vertical-align: top;\n",
       "    }\n",
       "\n",
       "    .dataframe thead th {\n",
       "        text-align: right;\n",
       "    }\n",
       "</style>\n",
       "<table border=\"1\" class=\"dataframe\">\n",
       "  <thead>\n",
       "    <tr style=\"text-align: right;\">\n",
       "      <th></th>\n",
       "      <th>holiday</th>\n",
       "      <th>temp</th>\n",
       "      <th>rain_1h</th>\n",
       "      <th>snow_1h</th>\n",
       "      <th>clouds_all</th>\n",
       "      <th>weather_main</th>\n",
       "      <th>weather_description</th>\n",
       "      <th>date_time</th>\n",
       "      <th>traffic_volume</th>\n",
       "    </tr>\n",
       "  </thead>\n",
       "  <tbody>\n",
       "    <tr>\n",
       "      <th>0</th>\n",
       "      <td>None</td>\n",
       "      <td>288.28</td>\n",
       "      <td>0.0</td>\n",
       "      <td>0.0</td>\n",
       "      <td>40</td>\n",
       "      <td>Clouds</td>\n",
       "      <td>scattered clouds</td>\n",
       "      <td>2012-10-02 09:00:00</td>\n",
       "      <td>5545</td>\n",
       "    </tr>\n",
       "    <tr>\n",
       "      <th>1</th>\n",
       "      <td>None</td>\n",
       "      <td>289.36</td>\n",
       "      <td>0.0</td>\n",
       "      <td>0.0</td>\n",
       "      <td>75</td>\n",
       "      <td>Clouds</td>\n",
       "      <td>broken clouds</td>\n",
       "      <td>2012-10-02 10:00:00</td>\n",
       "      <td>4516</td>\n",
       "    </tr>\n",
       "    <tr>\n",
       "      <th>2</th>\n",
       "      <td>None</td>\n",
       "      <td>289.58</td>\n",
       "      <td>0.0</td>\n",
       "      <td>0.0</td>\n",
       "      <td>90</td>\n",
       "      <td>Clouds</td>\n",
       "      <td>overcast clouds</td>\n",
       "      <td>2012-10-02 11:00:00</td>\n",
       "      <td>4767</td>\n",
       "    </tr>\n",
       "    <tr>\n",
       "      <th>3</th>\n",
       "      <td>None</td>\n",
       "      <td>290.13</td>\n",
       "      <td>0.0</td>\n",
       "      <td>0.0</td>\n",
       "      <td>90</td>\n",
       "      <td>Clouds</td>\n",
       "      <td>overcast clouds</td>\n",
       "      <td>2012-10-02 12:00:00</td>\n",
       "      <td>5026</td>\n",
       "    </tr>\n",
       "    <tr>\n",
       "      <th>4</th>\n",
       "      <td>None</td>\n",
       "      <td>291.14</td>\n",
       "      <td>0.0</td>\n",
       "      <td>0.0</td>\n",
       "      <td>75</td>\n",
       "      <td>Clouds</td>\n",
       "      <td>broken clouds</td>\n",
       "      <td>2012-10-02 13:00:00</td>\n",
       "      <td>4918</td>\n",
       "    </tr>\n",
       "  </tbody>\n",
       "</table>\n",
       "</div>"
      ],
      "text/plain": [
       "  holiday    temp  rain_1h  snow_1h  clouds_all weather_main  \\\n",
       "0    None  288.28      0.0      0.0          40       Clouds   \n",
       "1    None  289.36      0.0      0.0          75       Clouds   \n",
       "2    None  289.58      0.0      0.0          90       Clouds   \n",
       "3    None  290.13      0.0      0.0          90       Clouds   \n",
       "4    None  291.14      0.0      0.0          75       Clouds   \n",
       "\n",
       "  weather_description            date_time  traffic_volume  \n",
       "0    scattered clouds  2012-10-02 09:00:00            5545  \n",
       "1       broken clouds  2012-10-02 10:00:00            4516  \n",
       "2     overcast clouds  2012-10-02 11:00:00            4767  \n",
       "3     overcast clouds  2012-10-02 12:00:00            5026  \n",
       "4       broken clouds  2012-10-02 13:00:00            4918  "
      ]
     },
     "execution_count": 4,
     "metadata": {},
     "output_type": "execute_result"
    }
   ],
   "source": [
    "traffic.head()"
   ]
  },
  {
   "cell_type": "code",
   "execution_count": 5,
   "metadata": {
    "colab": {
     "base_uri": "https://localhost:8080/",
     "height": 204
    },
    "id": "MRfB7r6ccO3a",
    "outputId": "5b4c0461-0ff0-4a8f-b9d1-32a413eec174"
   },
   "outputs": [
    {
     "data": {
      "text/html": [
       "<div>\n",
       "<style scoped>\n",
       "    .dataframe tbody tr th:only-of-type {\n",
       "        vertical-align: middle;\n",
       "    }\n",
       "\n",
       "    .dataframe tbody tr th {\n",
       "        vertical-align: top;\n",
       "    }\n",
       "\n",
       "    .dataframe thead th {\n",
       "        text-align: right;\n",
       "    }\n",
       "</style>\n",
       "<table border=\"1\" class=\"dataframe\">\n",
       "  <thead>\n",
       "    <tr style=\"text-align: right;\">\n",
       "      <th></th>\n",
       "      <th>holiday</th>\n",
       "      <th>temp</th>\n",
       "      <th>rain_1h</th>\n",
       "      <th>snow_1h</th>\n",
       "      <th>clouds_all</th>\n",
       "      <th>weather_main</th>\n",
       "      <th>weather_description</th>\n",
       "      <th>date_time</th>\n",
       "      <th>traffic_volume</th>\n",
       "    </tr>\n",
       "  </thead>\n",
       "  <tbody>\n",
       "    <tr>\n",
       "      <th>48199</th>\n",
       "      <td>None</td>\n",
       "      <td>283.45</td>\n",
       "      <td>0.0</td>\n",
       "      <td>0.0</td>\n",
       "      <td>75</td>\n",
       "      <td>Clouds</td>\n",
       "      <td>broken clouds</td>\n",
       "      <td>2018-09-30 19:00:00</td>\n",
       "      <td>3543</td>\n",
       "    </tr>\n",
       "    <tr>\n",
       "      <th>48200</th>\n",
       "      <td>None</td>\n",
       "      <td>282.76</td>\n",
       "      <td>0.0</td>\n",
       "      <td>0.0</td>\n",
       "      <td>90</td>\n",
       "      <td>Clouds</td>\n",
       "      <td>overcast clouds</td>\n",
       "      <td>2018-09-30 20:00:00</td>\n",
       "      <td>2781</td>\n",
       "    </tr>\n",
       "    <tr>\n",
       "      <th>48201</th>\n",
       "      <td>None</td>\n",
       "      <td>282.73</td>\n",
       "      <td>0.0</td>\n",
       "      <td>0.0</td>\n",
       "      <td>90</td>\n",
       "      <td>Thunderstorm</td>\n",
       "      <td>proximity thunderstorm</td>\n",
       "      <td>2018-09-30 21:00:00</td>\n",
       "      <td>2159</td>\n",
       "    </tr>\n",
       "    <tr>\n",
       "      <th>48202</th>\n",
       "      <td>None</td>\n",
       "      <td>282.09</td>\n",
       "      <td>0.0</td>\n",
       "      <td>0.0</td>\n",
       "      <td>90</td>\n",
       "      <td>Clouds</td>\n",
       "      <td>overcast clouds</td>\n",
       "      <td>2018-09-30 22:00:00</td>\n",
       "      <td>1450</td>\n",
       "    </tr>\n",
       "    <tr>\n",
       "      <th>48203</th>\n",
       "      <td>None</td>\n",
       "      <td>282.12</td>\n",
       "      <td>0.0</td>\n",
       "      <td>0.0</td>\n",
       "      <td>90</td>\n",
       "      <td>Clouds</td>\n",
       "      <td>overcast clouds</td>\n",
       "      <td>2018-09-30 23:00:00</td>\n",
       "      <td>954</td>\n",
       "    </tr>\n",
       "  </tbody>\n",
       "</table>\n",
       "</div>"
      ],
      "text/plain": [
       "      holiday    temp  rain_1h  snow_1h  clouds_all  weather_main  \\\n",
       "48199    None  283.45      0.0      0.0          75        Clouds   \n",
       "48200    None  282.76      0.0      0.0          90        Clouds   \n",
       "48201    None  282.73      0.0      0.0          90  Thunderstorm   \n",
       "48202    None  282.09      0.0      0.0          90        Clouds   \n",
       "48203    None  282.12      0.0      0.0          90        Clouds   \n",
       "\n",
       "          weather_description            date_time  traffic_volume  \n",
       "48199           broken clouds  2018-09-30 19:00:00            3543  \n",
       "48200         overcast clouds  2018-09-30 20:00:00            2781  \n",
       "48201  proximity thunderstorm  2018-09-30 21:00:00            2159  \n",
       "48202         overcast clouds  2018-09-30 22:00:00            1450  \n",
       "48203         overcast clouds  2018-09-30 23:00:00             954  "
      ]
     },
     "execution_count": 5,
     "metadata": {},
     "output_type": "execute_result"
    }
   ],
   "source": [
    "traffic.tail()"
   ]
  },
  {
   "cell_type": "markdown",
   "metadata": {
    "id": "xFuShg9scWjN"
   },
   "source": [
    "# General Distribution of Traffic Volume\n"
   ]
  },
  {
   "cell_type": "code",
   "execution_count": 6,
   "metadata": {},
   "outputs": [
    {
     "data": {
      "text/plain": [
       "count    48204.000000\n",
       "mean      3259.818355\n",
       "std       1986.860670\n",
       "min          0.000000\n",
       "25%       1193.000000\n",
       "50%       3380.000000\n",
       "75%       4933.000000\n",
       "max       7280.000000\n",
       "Name: traffic_volume, dtype: float64"
      ]
     },
     "execution_count": 6,
     "metadata": {},
     "output_type": "execute_result"
    }
   ],
   "source": [
    "traffic['traffic_volume'].describe()"
   ]
  },
  {
   "cell_type": "markdown",
   "metadata": {},
   "source": [
    "### Conclusions\n",
    "Traffic volume is calculated from 2012-10-02 to 2018-09-30.\n",
    "\n",
    "The values given above do not immediately suggest a normal distribution"
   ]
  },
  {
   "cell_type": "code",
   "execution_count": 7,
   "metadata": {},
   "outputs": [
    {
     "data": {
      "image/png": "[encoded data removed]",
      "text/plain": [
       "<Figure size 432x288 with 1 Axes>"
      ]
     },
     "metadata": {
      "needs_background": "light"
     },
     "output_type": "display_data"
    }
   ],
   "source": [
    "traffic['traffic_volume'].plot.hist()\n",
    "plt.xlabel('Number of Westbound Cars')\n",
    "plt.ylabel('Frequency of volume')\n",
    "plt.show()"
   ]
  },
  {
   "cell_type": "markdown",
   "metadata": {},
   "source": [
    "### Conclusions\n",
    "Two spikes at 0-500 cars and 4500-5000 cars suggests a night/day effect.\n",
    "\n",
    "Comparing night and day volumes is likely to be useful."
   ]
  },
  {
   "cell_type": "markdown",
   "metadata": {
    "id": "eyjiBakrcYV8"
   },
   "source": [
    "# Day / Night Distribution of Traffic Volume"
   ]
  },
  {
   "cell_type": "code",
   "execution_count": 8,
   "metadata": {},
   "outputs": [
    {
     "data": {
      "text/plain": [
       "dtype('O')"
      ]
     },
     "execution_count": 8,
     "metadata": {},
     "output_type": "execute_result"
    }
   ],
   "source": [
    "#Investigate type of the 'date_time' column\n",
    "traffic['date_time'].dtype"
   ]
  },
  {
   "cell_type": "code",
   "execution_count": 9,
   "metadata": {},
   "outputs": [],
   "source": [
    "#Convert to datetime\n",
    "traffic['date_time'] = pd.to_datetime(traffic['date_time'])"
   ]
  },
  {
   "cell_type": "code",
   "execution_count": 10,
   "metadata": {},
   "outputs": [
    {
     "data": {
      "text/plain": [
       "0   2012-10-02 09:00:00\n",
       "1   2012-10-02 10:00:00\n",
       "2   2012-10-02 11:00:00\n",
       "3   2012-10-02 12:00:00\n",
       "4   2012-10-02 13:00:00\n",
       "Name: date_time, dtype: datetime64[ns]"
      ]
     },
     "execution_count": 10,
     "metadata": {},
     "output_type": "execute_result"
    }
   ],
   "source": [
    "# Investigate new 'date_time' column\n",
    "traffic['date_time'].head()"
   ]
  },
  {
   "cell_type": "markdown",
   "metadata": {},
   "source": [
    "### Method\n",
    "1. use series.dt.hour to get the hours from the 'date_time' series.\n",
    "2. isolate daytime and nighttime data in new dataframes"
   ]
  },
  {
   "cell_type": "code",
   "execution_count": 95,
   "metadata": {},
   "outputs": [
    {
     "name": "stdout",
     "output_type": "stream",
     "text": [
      "count    23877.000000\n",
      "mean      4762.047452\n",
      "std       1174.546482\n",
      "min          0.000000\n",
      "25%       4252.000000\n",
      "50%       4820.000000\n",
      "75%       5559.000000\n",
      "max       7280.000000\n",
      "Name: traffic_volume, dtype: float64\n",
      "count    24327.000000\n",
      "mean      1785.377441\n",
      "std       1441.951197\n",
      "min          0.000000\n",
      "25%        530.000000\n",
      "50%       1287.000000\n",
      "75%       2819.000000\n",
      "max       6386.000000\n",
      "Name: traffic_volume, dtype: float64\n"
     ]
    }
   ],
   "source": [
    "# Day = 07:00 < t <= 19:00\n",
    "# Night = 19:00 < t <= 07.00\n",
    "\n",
    "day_slice = traffic.copy()[(traffic['date_time'].dt.hour >= 7) & (traffic['date_time'].dt.hour < 19)]\n",
    "night_slice = traffic.copy()[(traffic['date_time'].dt.hour >= 19) | (traffic['date_time'].dt.hour < 7)]\n",
    "print(day_slice['traffic_volume'].describe())\n",
    "print(night_slice['traffic_volume'].describe())\n"
   ]
  },
  {
   "cell_type": "code",
   "execution_count": 12,
   "metadata": {},
   "outputs": [
    {
     "data": {
      "image/png": "[encoded data removed]",
      "text/plain": [
       "<Figure size 720x216 with 2 Axes>"
      ]
     },
     "metadata": {
      "needs_background": "light"
     },
     "output_type": "display_data"
    }
   ],
   "source": [
    "plt.figure(figsize=(10,3)) # Make the plots a bit wider\n",
    "\n",
    "plt.subplot(1, 2, 1)\n",
    "plt.hist(day_slice['traffic_volume'])\n",
    "plt.xlabel('Vehicle Volume')\n",
    "plt.ylabel('Volume Frequency')\n",
    "plt.title('Day Time Traffic Volume')\n",
    "plt.ylim([0, 8000]) # Set the same in both plots to make comparison easier\n",
    "\n",
    "plt.subplot(1, 2, 2)\n",
    "plt.hist(night_slice['traffic_volume'])\n",
    "plt.xlabel('Vehicle Volume')\n",
    "plt.ylabel('Volume Frequency')\n",
    "plt.title('Night Time Traffic Volume')\n",
    "plt.ylim([0, 8000])\n",
    "\n",
    "plt.show()"
   ]
  },
  {
   "cell_type": "markdown",
   "metadata": {},
   "source": [
    "### Conclusions\n",
    "**Day time data** clearly has a nice normal distrubtion showing a very high volume peak which we would expect to match rush hour. Even though it is westbound traffic only, we can assume that most of the traffic which is on a time-based cycle will want to return home at some pointin the same day.\n",
    "\n",
    "Investigating traffic_volume on an hourly basis would be interesting.\n",
    "\n",
    "**Night time data** is nearly linear, perhaps monotonic. Traffic drops to basically nothing for most of the time. The surge at 3000 volume might be because we have the night time window set wrong.\n",
    "\n",
    "When analysing hourly distribution it might be necessary to change assumptions of day/night divide."
   ]
  },
  {
   "cell_type": "markdown",
   "metadata": {
    "id": "_QxijXUFdFwn"
   },
   "source": [
    "# Monthly Distribution of Traffic Volume\n",
    "\n",
    "### Method\n",
    "- Create a new month column\n",
    "- Groupby() the month column and plot each month."
   ]
  },
  {
   "cell_type": "code",
   "execution_count": 13,
   "metadata": {},
   "outputs": [
    {
     "data": {
      "text/plain": [
       "month\n",
       "1     4495.613727\n",
       "2     4711.198394\n",
       "3     4889.409560\n",
       "4     4906.894305\n",
       "5     4911.121609\n",
       "6     4898.019566\n",
       "7     4595.035744\n",
       "8     4928.302035\n",
       "9     4870.783145\n",
       "10    4921.234922\n",
       "11    4704.094319\n",
       "12    4374.834566\n",
       "Name: traffic_volume, dtype: float64"
      ]
     },
     "execution_count": 13,
     "metadata": {},
     "output_type": "execute_result"
    }
   ],
   "source": [
    "day_slice['month'] = day_slice['date_time'].dt.month\n",
    "by_month = day_slice.groupby(['month']).mean()\n",
    "by_month['traffic_volume']"
   ]
  },
  {
   "cell_type": "code",
   "execution_count": 14,
   "metadata": {},
   "outputs": [
    {
     "data": {
      "image/png": "[encoded data removed]",
      "text/plain": [
       "<Figure size 720x216 with 2 Axes>"
      ]
     },
     "metadata": {
      "needs_background": "light"
     },
     "output_type": "display_data"
    }
   ],
   "source": [
    "plt.figure(figsize=(10,3))\n",
    "plt.subplot(1,2,1)\n",
    "plt.plot(by_month['traffic_volume'])\n",
    "\n",
    "plt.subplot(1,2,2)\n",
    "plt.bar([1,2,3,4,5,6,7,8,9,10,11,12],by_month['traffic_volume'])\n",
    "# by_month['traffic_volume'].plot.bar()\n",
    "plt.show()"
   ]
  },
  {
   "cell_type": "markdown",
   "metadata": {},
   "source": [
    "Initially, it looks like July might be a really slow month for traffic - perhaps to do with holidays. However, it is unlikely holidays would result in a decrease of traffic if it's also the school holiday."
   ]
  },
  {
   "cell_type": "code",
   "execution_count": 15,
   "metadata": {},
   "outputs": [
    {
     "data": {
      "image/png": "[encoded data removed]",
      "text/plain": [
       "<Figure size 432x288 with 1 Axes>"
      ]
     },
     "metadata": {
      "needs_background": "light"
     },
     "output_type": "display_data"
    }
   ],
   "source": [
    "# New column containing only the year\n",
    "day_slice['year'] = day_slice['date_time'].dt.year\n",
    "\n",
    "# New df containing only rows captured in July\n",
    "by_july_annual = day_slice[day_slice['month'] == 7]\n",
    "\n",
    "# Group months of July by 'year' and calculate the mean of the traffic_volume\n",
    "# Then plot\n",
    "plt.plot(by_july_annual.groupby(['year']).mean()['traffic_volume'])\n",
    "plt.show()\n"
   ]
  },
  {
   "cell_type": "markdown",
   "metadata": {},
   "source": [
    "### Conclusions\n",
    "**Winter months** are quieter on the I-94, but only by about 10%.\n",
    "\n",
    "**July 2016** only shows a considerable drop. This might be due to construction."
   ]
  },
  {
   "cell_type": "markdown",
   "metadata": {
    "id": "n2hLBIqCdJSZ"
   },
   "source": [
    "# Daily Distribution of Traffic Volume"
   ]
  },
  {
   "cell_type": "code",
   "execution_count": 16,
   "metadata": {},
   "outputs": [
    {
     "data": {
      "text/plain": [
       "day_of_week\n",
       "0.0    4893.551286\n",
       "1.0    5189.004782\n",
       "2.0    5284.454282\n",
       "3.0    5311.303730\n",
       "4.0    5291.600829\n",
       "5.0    3927.249558\n",
       "6.0    3436.541789\n",
       "Name: traffic_volume, dtype: float64"
      ]
     },
     "execution_count": 16,
     "metadata": {},
     "output_type": "execute_result"
    }
   ],
   "source": [
    "traffic['day_of_week'] = day_slice['date_time'].dt.dayofweek\n",
    "by_day = traffic.groupby(['day_of_week']).mean()\n",
    "by_day['traffic_volume']"
   ]
  },
  {
   "cell_type": "code",
   "execution_count": 17,
   "metadata": {},
   "outputs": [
    {
     "data": {
      "image/png": "[encoded data removed]",
      "text/plain": [
       "<Figure size 864x216 with 2 Axes>"
      ]
     },
     "metadata": {
      "needs_background": "light"
     },
     "output_type": "display_data"
    }
   ],
   "source": [
    "plt.figure(figsize=(12,3))\n",
    "plt.subplot(1,2,1)\n",
    "plt.plot(by_day['traffic_volume'])\n",
    "plt.xticks(range(7),('Mon','Tue','Wed','Thu','Fri','Sat','Sun'))\n",
    "\n",
    "plt.subplot(1,2,2)\n",
    "plt.bar(['Mon','Tue','Wed','Thu','Fri','Sat','Sun'],by_day['traffic_volume'])\n",
    "plt.show()"
   ]
  },
  {
   "cell_type": "markdown",
   "metadata": {},
   "source": [
    "### Conclusions\n",
    "**Weekends** are clearly periods of lower traffic volume. However, it is not such a significant difference that we can conclude the majority of the traffic on the road is commuter traffic. But it is enough to explain the similar drop in July."
   ]
  },
  {
   "cell_type": "markdown",
   "metadata": {
    "id": "ofm0TAXFdPpG"
   },
   "source": [
    "# Hourly Distribution of Traffic Volume"
   ]
  },
  {
   "cell_type": "code",
   "execution_count": 18,
   "metadata": {},
   "outputs": [],
   "source": [
    "# New column containing only the hour for the row\n",
    "day_slice['hour'] = day_slice['date_time'].dt.hour\n",
    "\n",
    "# New column containing only the hour for the row\n",
    "day_slice['dayofweek'] = day_slice['date_time'].dt.dayofweek\n",
    "\n",
    "# Copy days Monday-Friday to a new dataframe\n",
    "business_days = day_slice.copy()[day_slice['dayofweek'] <= 4] # 4 == Friday\n",
    "\n",
    "# Copy days Saturday-Sunday to a new dataframe\n",
    "weekend = day_slice.copy()[day_slice['dayofweek'] >= 5] # 5 = Saturday\n",
    "\n",
    "# New dataframe of mean traffic_volume for each day time hour\n",
    "by_hour_business = business_days.groupby('hour').mean()\n",
    "by_hour_weekend = weekend.groupby('hour').mean()"
   ]
  },
  {
   "cell_type": "code",
   "execution_count": 19,
   "metadata": {},
   "outputs": [
    {
     "data": {
      "image/png": "[encoded data removed]",
      "text/plain": [
       "<Figure size 792x252 with 2 Axes>"
      ]
     },
     "metadata": {
      "needs_background": "light"
     },
     "output_type": "display_data"
    }
   ],
   "source": [
    "plt.figure(figsize=(11,3.5))\n",
    "\n",
    "plt.subplot(1, 2, 1)\n",
    "plt.plot(by_hour_business['traffic_volume'])\n",
    "plt.xlim(6,20)\n",
    "plt.ylim(1500,6500)\n",
    "plt.title('Traffic Volume By Hour: Monday–Friday')\n",
    "\n",
    "plt.subplot(1, 2, 2)\n",
    "plt.plot(by_hour_weekend['traffic_volume'])\n",
    "plt.xlim(6,20)\n",
    "plt.ylim(1500,6500)\n",
    "plt.title('Traffic Volume By Hour: Weekend')\n",
    "\n",
    "plt.show()"
   ]
  },
  {
   "cell_type": "markdown",
   "metadata": {},
   "source": [
    "### Conclusions\n",
    "\n",
    "In general, there is a small increase in traffic on working days. On working days there is the expected surge at 07:00 and 16:00 corresponding to commutes.\n",
    "\n",
    "## Summary\n",
    "\n",
    "- Volume is greater in the summer months.\n",
    "- Volume is greater on week days.\n",
    "- Volume increases at 07:00 and 16:00 corresponding to expected commuting window."
   ]
  },
  {
   "cell_type": "markdown",
   "metadata": {
    "id": "S-7e4v1IdbMi"
   },
   "source": [
    "# Correlation: Traffic Volume and Weather\n",
    "\n",
    "## Continuous variables: \n",
    "- temp\n",
    "- rain_1h\n",
    "- snow_1h\n",
    "- clouds_all"
   ]
  },
  {
   "cell_type": "code",
   "execution_count": 27,
   "metadata": {},
   "outputs": [
    {
     "data": {
      "text/html": [
       "<div>\n",
       "<style scoped>\n",
       "    .dataframe tbody tr th:only-of-type {\n",
       "        vertical-align: middle;\n",
       "    }\n",
       "\n",
       "    .dataframe tbody tr th {\n",
       "        vertical-align: top;\n",
       "    }\n",
       "\n",
       "    .dataframe thead th {\n",
       "        text-align: right;\n",
       "    }\n",
       "</style>\n",
       "<table border=\"1\" class=\"dataframe\">\n",
       "  <thead>\n",
       "    <tr style=\"text-align: right;\">\n",
       "      <th></th>\n",
       "      <th>temp</th>\n",
       "      <th>rain_1h</th>\n",
       "      <th>snow_1h</th>\n",
       "      <th>clouds_all</th>\n",
       "      <th>traffic_volume</th>\n",
       "      <th>month</th>\n",
       "      <th>year</th>\n",
       "      <th>hour</th>\n",
       "      <th>dayofweek</th>\n",
       "    </tr>\n",
       "  </thead>\n",
       "  <tbody>\n",
       "    <tr>\n",
       "      <th>temp</th>\n",
       "      <td>1.000000</td>\n",
       "      <td>0.010815</td>\n",
       "      <td>-0.019286</td>\n",
       "      <td>-0.135519</td>\n",
       "      <td>0.128317</td>\n",
       "      <td>0.222072</td>\n",
       "      <td>0.132855</td>\n",
       "      <td>0.162691</td>\n",
       "      <td>0.000188</td>\n",
       "    </tr>\n",
       "    <tr>\n",
       "      <th>rain_1h</th>\n",
       "      <td>0.010815</td>\n",
       "      <td>1.000000</td>\n",
       "      <td>-0.000091</td>\n",
       "      <td>0.004993</td>\n",
       "      <td>0.003697</td>\n",
       "      <td>0.001176</td>\n",
       "      <td>0.001290</td>\n",
       "      <td>0.008279</td>\n",
       "      <td>-0.009683</td>\n",
       "    </tr>\n",
       "    <tr>\n",
       "      <th>snow_1h</th>\n",
       "      <td>-0.019286</td>\n",
       "      <td>-0.000091</td>\n",
       "      <td>1.000000</td>\n",
       "      <td>0.027721</td>\n",
       "      <td>0.001265</td>\n",
       "      <td>0.026768</td>\n",
       "      <td>-0.004546</td>\n",
       "      <td>0.003923</td>\n",
       "      <td>-0.008814</td>\n",
       "    </tr>\n",
       "    <tr>\n",
       "      <th>clouds_all</th>\n",
       "      <td>-0.135519</td>\n",
       "      <td>0.004993</td>\n",
       "      <td>0.027721</td>\n",
       "      <td>1.000000</td>\n",
       "      <td>-0.032932</td>\n",
       "      <td>0.000595</td>\n",
       "      <td>-0.030387</td>\n",
       "      <td>0.023685</td>\n",
       "      <td>-0.041980</td>\n",
       "    </tr>\n",
       "    <tr>\n",
       "      <th>traffic_volume</th>\n",
       "      <td>0.128317</td>\n",
       "      <td>0.003697</td>\n",
       "      <td>0.001265</td>\n",
       "      <td>-0.032932</td>\n",
       "      <td>1.000000</td>\n",
       "      <td>-0.022337</td>\n",
       "      <td>-0.003557</td>\n",
       "      <td>0.172704</td>\n",
       "      <td>-0.416453</td>\n",
       "    </tr>\n",
       "    <tr>\n",
       "      <th>month</th>\n",
       "      <td>0.222072</td>\n",
       "      <td>0.001176</td>\n",
       "      <td>0.026768</td>\n",
       "      <td>0.000595</td>\n",
       "      <td>-0.022337</td>\n",
       "      <td>1.000000</td>\n",
       "      <td>-0.158583</td>\n",
       "      <td>0.008145</td>\n",
       "      <td>0.013656</td>\n",
       "    </tr>\n",
       "    <tr>\n",
       "      <th>year</th>\n",
       "      <td>0.132855</td>\n",
       "      <td>0.001290</td>\n",
       "      <td>-0.004546</td>\n",
       "      <td>-0.030387</td>\n",
       "      <td>-0.003557</td>\n",
       "      <td>-0.158583</td>\n",
       "      <td>1.000000</td>\n",
       "      <td>-0.003822</td>\n",
       "      <td>-0.012123</td>\n",
       "    </tr>\n",
       "    <tr>\n",
       "      <th>hour</th>\n",
       "      <td>0.162691</td>\n",
       "      <td>0.008279</td>\n",
       "      <td>0.003923</td>\n",
       "      <td>0.023685</td>\n",
       "      <td>0.172704</td>\n",
       "      <td>0.008145</td>\n",
       "      <td>-0.003822</td>\n",
       "      <td>1.000000</td>\n",
       "      <td>-0.002767</td>\n",
       "    </tr>\n",
       "    <tr>\n",
       "      <th>dayofweek</th>\n",
       "      <td>0.000188</td>\n",
       "      <td>-0.009683</td>\n",
       "      <td>-0.008814</td>\n",
       "      <td>-0.041980</td>\n",
       "      <td>-0.416453</td>\n",
       "      <td>0.013656</td>\n",
       "      <td>-0.012123</td>\n",
       "      <td>-0.002767</td>\n",
       "      <td>1.000000</td>\n",
       "    </tr>\n",
       "  </tbody>\n",
       "</table>\n",
       "</div>"
      ],
      "text/plain": [
       "                    temp   rain_1h   snow_1h  clouds_all  traffic_volume  \\\n",
       "temp            1.000000  0.010815 -0.019286   -0.135519        0.128317   \n",
       "rain_1h         0.010815  1.000000 -0.000091    0.004993        0.003697   \n",
       "snow_1h        -0.019286 -0.000091  1.000000    0.027721        0.001265   \n",
       "clouds_all     -0.135519  0.004993  0.027721    1.000000       -0.032932   \n",
       "traffic_volume  0.128317  0.003697  0.001265   -0.032932        1.000000   \n",
       "month           0.222072  0.001176  0.026768    0.000595       -0.022337   \n",
       "year            0.132855  0.001290 -0.004546   -0.030387       -0.003557   \n",
       "hour            0.162691  0.008279  0.003923    0.023685        0.172704   \n",
       "dayofweek       0.000188 -0.009683 -0.008814   -0.041980       -0.416453   \n",
       "\n",
       "                   month      year      hour  dayofweek  \n",
       "temp            0.222072  0.132855  0.162691   0.000188  \n",
       "rain_1h         0.001176  0.001290  0.008279  -0.009683  \n",
       "snow_1h         0.026768 -0.004546  0.003923  -0.008814  \n",
       "clouds_all      0.000595 -0.030387  0.023685  -0.041980  \n",
       "traffic_volume -0.022337 -0.003557  0.172704  -0.416453  \n",
       "month           1.000000 -0.158583  0.008145   0.013656  \n",
       "year           -0.158583  1.000000 -0.003822  -0.012123  \n",
       "hour            0.008145 -0.003822  1.000000  -0.002767  \n",
       "dayofweek       0.013656 -0.012123 -0.002767   1.000000  "
      ]
     },
     "execution_count": 27,
     "metadata": {},
     "output_type": "execute_result"
    }
   ],
   "source": [
    "day_slice.corr()"
   ]
  },
  {
   "cell_type": "code",
   "execution_count": 47,
   "metadata": {},
   "outputs": [
    {
     "data": {
      "image/png": "[encoded data removed]",
      "text/plain": [
       "<Figure size 432x288 with 4 Axes>"
      ]
     },
     "metadata": {
      "needs_background": "light"
     },
     "output_type": "display_data"
    }
   ],
   "source": [
    "plt.figure()\n",
    "plt.subplot(2,2,1)\n",
    "plt.scatter(day_slice['temp'],day_slice['traffic_volume'])\n",
    "plt.xlim(240,315) # Remove outliers\n",
    "plt.subplot(2,2,2)\n",
    "plt.scatter(day_slice['rain_1h'],day_slice['traffic_volume'])\n",
    "plt.xlim(0,15) # Adjust axis for better view\n",
    "plt.subplot(2,2,3)\n",
    "plt.scatter(day_slice['snow_1h'],day_slice['traffic_volume'])\n",
    "plt.subplot(2,2,4)\n",
    "plt.scatter(day_slice['clouds_all'],day_slice['traffic_volume'])\n",
    "plt.show()"
   ]
  },
  {
   "cell_type": "markdown",
   "metadata": {
    "id": "bnaKizuldti_"
   },
   "source": [
    "# Correlation: Traffic Volume and Weather\n",
    "\n",
    "## Categorical variables:\n",
    "- weather_main\n",
    "- weather_description"
   ]
  },
  {
   "cell_type": "code",
   "execution_count": 50,
   "metadata": {},
   "outputs": [
    {
     "data": {
      "text/plain": [
       "Clouds          8702\n",
       "Clear           5744\n",
       "Rain            2841\n",
       "Mist            2593\n",
       "Snow            1454\n",
       "Drizzle          883\n",
       "Haze             834\n",
       "Thunderstorm     451\n",
       "Fog              362\n",
       "Smoke             12\n",
       "Squall             1\n",
       "Name: weather_main, dtype: int64"
      ]
     },
     "execution_count": 50,
     "metadata": {},
     "output_type": "execute_result"
    }
   ],
   "source": [
    "day_slice['weather_main'].value_counts()"
   ]
  },
  {
   "cell_type": "code",
   "execution_count": 51,
   "metadata": {},
   "outputs": [
    {
     "data": {
      "text/plain": [
       "sky is clear                           4892\n",
       "broken clouds                          2793\n",
       "mist                                   2593\n",
       "overcast clouds                        2585\n",
       "scattered clouds                       2181\n",
       "light rain                             1707\n",
       "few clouds                             1143\n",
       "light snow                              978\n",
       "Sky is Clear                            852\n",
       "haze                                    834\n",
       "moderate rain                           785\n",
       "light intensity drizzle                 573\n",
       "fog                                     362\n",
       "heavy snow                              320\n",
       "proximity thunderstorm                  303\n",
       "drizzle                                 278\n",
       "heavy intensity rain                    219\n",
       "snow                                    137\n",
       "proximity shower rain                   111\n",
       "thunderstorm                             48\n",
       "heavy intensity drizzle                  29\n",
       "thunderstorm with heavy rain             25\n",
       "thunderstorm with light rain             23\n",
       "thunderstorm with rain                   20\n",
       "proximity thunderstorm with rain         18\n",
       "smoke                                    12\n",
       "light shower snow                        11\n",
       "light intensity shower rain              10\n",
       "very heavy rain                           7\n",
       "proximity thunderstorm with drizzle       6\n",
       "thunderstorm with light drizzle           6\n",
       "light rain and snow                       4\n",
       "sleet                                     3\n",
       "shower drizzle                            3\n",
       "thunderstorm with drizzle                 2\n",
       "freezing rain                             2\n",
       "shower snow                               1\n",
       "SQUALLS                                   1\n",
       "Name: weather_description, dtype: int64"
      ]
     },
     "execution_count": 51,
     "metadata": {},
     "output_type": "execute_result"
    }
   ],
   "source": [
    "day_slice['weather_description'].value_counts()"
   ]
  },
  {
   "cell_type": "code",
   "execution_count": 78,
   "metadata": {},
   "outputs": [
    {
     "data": {
      "image/png": "[encoded data removed]",
      "text/plain": [
       "<Figure size 432x288 with 1 Axes>"
      ]
     },
     "metadata": {
      "needs_background": "light"
     },
     "output_type": "display_data"
    },
    {
     "data": {
      "image/png": "[encoded data removed]",
      "text/plain": [
       "<Figure size 432x288 with 1 Axes>"
      ]
     },
     "metadata": {
      "needs_background": "light"
     },
     "output_type": "display_data"
    }
   ],
   "source": [
    "by_weather_main = day_slice.groupby('weather_main')\n",
    "\n",
    "by_weather_main.mean()['traffic_volume'].plot.barh()\n",
    "plt.show()\n",
    "\n",
    "plt.plot(by_weather_main.mean()[['traffic_volume']])\n",
    "plt.xticks(rotation=45)\n",
    "plt.show()"
   ]
  },
  {
   "cell_type": "code",
   "execution_count": 92,
   "metadata": {},
   "outputs": [
    {
     "data": {
      "image/png": "[encoded data removed]",
      "text/plain": [
       "<Figure size 360x720 with 1 Axes>"
      ]
     },
     "metadata": {
      "needs_background": "light"
     },
     "output_type": "display_data"
    }
   ],
   "source": [
    "by_weather_desc = day_slice.groupby('weather_description')\n",
    "\n",
    "by_weather_desc.mean()['traffic_volume'].plot.barh(figsize=(5,10))\n",
    "plt.show()"
   ]
  },
  {
   "cell_type": "markdown",
   "metadata": {},
   "source": [
    "# Conclusions\n",
    "\n",
    "## Time Distributions\n",
    "- Traffic is busier on working days\n",
    "- Traffic is busiest during communiting times: 07:00 and 16:00\n",
    "- Traffic is heavier in the warmer summer months\n",
    "\n",
    "## Weather Correlations\n",
    "- Traffic volume is most reduced by visibility-related weather conditions such as fog and drizzle\n",
    "- Traffic volume is also reduced by light rain and snow and freezing rain\n"
   ]
  }
 ],
 "metadata": {
  "colab": {
   "authorship_tag": "ABX9TyPmSUuostnFWdix4qEyBktP",
   "collapsed_sections": [],
   "include_colab_link": true,
   "name": "gp4_i94_traffic.ipynb",
   "provenance": []
  },
  "kernelspec": {
   "display_name": "jpython",
   "language": "python",
   "name": "jpython"
  },
  "language_info": {
   "codemirror_mode": {
    "name": "ipython",
    "version": 3
   },
   "file_extension": ".py",
   "mimetype": "text/x-python",
   "name": "python",
   "nbconvert_exporter": "python",
   "pygments_lexer": "ipython3",
   "version": "3.9.2"
  }
 },
 "nbformat": 4,
 "nbformat_minor": 4
}
