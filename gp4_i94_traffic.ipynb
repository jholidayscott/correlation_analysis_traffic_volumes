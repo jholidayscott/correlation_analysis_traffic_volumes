{
 "cells": [
  {
   "cell_type": "markdown",
   "metadata": {
    "id": "k7eUdI8efRrh"
   },
   "source": [
    "# Finding Indicators of Heavy Traffic on I-94\n",
    "\n",
    "## Aim\n",
    "Identify correlations between environmental variables such as weather and time of day and high traffic volumes in order to better target strategies to reduce the negative impacts of slow-moving traffic on the local economy.\n",
    "\n",
    "## Methodology\n",
    "Data is likely parametric and monotonic, perhaps linear for date and time and the data set is large enough at 48k rows for any calculation.\n",
    "\n",
    "Therefore, correlations can best be calculated using:\n",
    "- Pearson coefficient for continuous data.\n",
    "- Spearman rank coefficient for categorical data.\n",
    "\n",
    "## Results\n",
    "- Strong correlations\n",
    "- Weak correlations\n"
   ]
  },
  {
   "cell_type": "markdown",
   "metadata": {
    "id": "XN6XAhwaW17U"
   },
   "source": [
    "# Data Set\n",
    "## Source:\n",
    "John Hogue, john.d.hogue '@' live.com, Social Data Science & General Mills\n",
    "\n",
    "Available from the [UCI Machine Learning Repository](https://archive.ics.uci.edu/ml/datasets/Metro+Interstate+Traffic+Volume).\n",
    "\n",
    "## Data Set Information:\n",
    "Hourly Interstate 94 Westbound traffic volume for MN DoT ATR station 301, roughly midway between Minneapolis and St Paul, MN. Hourly weather features and holidays included for impacts on traffic volume.\n",
    "\n",
    "\n",
    "\n",
    "## Data Dictionary\n",
    "|#|column|Variable|Description|\n",
    "|---| :---- |  :---   |  :------   |\n",
    "|0|holiday|Categorical|US National holidays plus regional holiday, Minnesota State Fair\n",
    "|1|temp| Numeric| Average temp in kelvin\n",
    "|2|rain_1h| Numeric| Amount in mm of rain that occurred in the hour\n",
    "|3|snow_1h| Numeric| Amount in mm of snow that occurred in the hour\n",
    "|4|clouds_all| Numeric| Percentage of cloud cover\n",
    "|5|weather_main| Categorical| Short textual description of the current weather\n",
    "|6|weather_description| Categorical| Longer textual description of the current weather\n",
    "|7|date_time| DateTime| Hour of the data collected in local CST time\n",
    "|8|traffic_volume| Numeric| Hourly I-94 ATR 301 reported westbound traffic volume"
   ]
  },
  {
   "cell_type": "code",
   "execution_count": 268,
   "metadata": {},
   "outputs": [],
   "source": [
    "import matplotlib.pyplot as plt\n",
    "%matplotlib inline"
   ]
  },
  {
   "cell_type": "code",
   "execution_count": 269,
   "metadata": {
    "colab": {
     "base_uri": "https://localhost:8080/"
    },
    "id": "zWWgykgmazXY",
    "outputId": "c620983b-e440-4f36-b650-83b6b39cea8b"
   },
   "outputs": [
    {
     "name": "stdout",
     "output_type": "stream",
     "text": [
      "<class 'pandas.core.frame.DataFrame'>\n",
      "RangeIndex: 48204 entries, 0 to 48203\n",
      "Data columns (total 9 columns):\n",
      " #   Column               Non-Null Count  Dtype  \n",
      "---  ------               --------------  -----  \n",
      " 0   holiday              48204 non-null  object \n",
      " 1   temp                 48204 non-null  float64\n",
      " 2   rain_1h              48204 non-null  float64\n",
      " 3   snow_1h              48204 non-null  float64\n",
      " 4   clouds_all           48204 non-null  int64  \n",
      " 5   weather_main         48204 non-null  object \n",
      " 6   weather_description  48204 non-null  object \n",
      " 7   date_time            48204 non-null  object \n",
      " 8   traffic_volume       48204 non-null  int64  \n",
      "dtypes: float64(3), int64(2), object(4)\n",
      "memory usage: 3.3+ MB\n"
     ]
    }
   ],
   "source": [
    "import pandas as pd\n",
    "traffic = pd.read_csv('Metro_Interstate_Traffic_Volume.csv')\n",
    "traffic.info()"
   ]
  },
  {
   "cell_type": "code",
   "execution_count": 270,
   "metadata": {
    "colab": {
     "base_uri": "https://localhost:8080/",
     "height": 204
    },
    "id": "ci7zi5ZtbxFf",
    "outputId": "ed2701d1-ba06-4634-d572-14f7ccf82e8c"
   },
   "outputs": [
    {
     "data": {
      "text/html": [
       "<div>\n",
       "<style scoped>\n",
       "    .dataframe tbody tr th:only-of-type {\n",
       "        vertical-align: middle;\n",
       "    }\n",
       "\n",
       "    .dataframe tbody tr th {\n",
       "        vertical-align: top;\n",
       "    }\n",
       "\n",
       "    .dataframe thead th {\n",
       "        text-align: right;\n",
       "    }\n",
       "</style>\n",
       "<table border=\"1\" class=\"dataframe\">\n",
       "  <thead>\n",
       "    <tr style=\"text-align: right;\">\n",
       "      <th></th>\n",
       "      <th>holiday</th>\n",
       "      <th>temp</th>\n",
       "      <th>rain_1h</th>\n",
       "      <th>snow_1h</th>\n",
       "      <th>clouds_all</th>\n",
       "      <th>weather_main</th>\n",
       "      <th>weather_description</th>\n",
       "      <th>date_time</th>\n",
       "      <th>traffic_volume</th>\n",
       "    </tr>\n",
       "  </thead>\n",
       "  <tbody>\n",
       "    <tr>\n",
       "      <th>0</th>\n",
       "      <td>None</td>\n",
       "      <td>288.28</td>\n",
       "      <td>0.0</td>\n",
       "      <td>0.0</td>\n",
       "      <td>40</td>\n",
       "      <td>Clouds</td>\n",
       "      <td>scattered clouds</td>\n",
       "      <td>2012-10-02 09:00:00</td>\n",
       "      <td>5545</td>\n",
       "    </tr>\n",
       "    <tr>\n",
       "      <th>1</th>\n",
       "      <td>None</td>\n",
       "      <td>289.36</td>\n",
       "      <td>0.0</td>\n",
       "      <td>0.0</td>\n",
       "      <td>75</td>\n",
       "      <td>Clouds</td>\n",
       "      <td>broken clouds</td>\n",
       "      <td>2012-10-02 10:00:00</td>\n",
       "      <td>4516</td>\n",
       "    </tr>\n",
       "    <tr>\n",
       "      <th>2</th>\n",
       "      <td>None</td>\n",
       "      <td>289.58</td>\n",
       "      <td>0.0</td>\n",
       "      <td>0.0</td>\n",
       "      <td>90</td>\n",
       "      <td>Clouds</td>\n",
       "      <td>overcast clouds</td>\n",
       "      <td>2012-10-02 11:00:00</td>\n",
       "      <td>4767</td>\n",
       "    </tr>\n",
       "    <tr>\n",
       "      <th>3</th>\n",
       "      <td>None</td>\n",
       "      <td>290.13</td>\n",
       "      <td>0.0</td>\n",
       "      <td>0.0</td>\n",
       "      <td>90</td>\n",
       "      <td>Clouds</td>\n",
       "      <td>overcast clouds</td>\n",
       "      <td>2012-10-02 12:00:00</td>\n",
       "      <td>5026</td>\n",
       "    </tr>\n",
       "    <tr>\n",
       "      <th>4</th>\n",
       "      <td>None</td>\n",
       "      <td>291.14</td>\n",
       "      <td>0.0</td>\n",
       "      <td>0.0</td>\n",
       "      <td>75</td>\n",
       "      <td>Clouds</td>\n",
       "      <td>broken clouds</td>\n",
       "      <td>2012-10-02 13:00:00</td>\n",
       "      <td>4918</td>\n",
       "    </tr>\n",
       "  </tbody>\n",
       "</table>\n",
       "</div>"
      ],
      "text/plain": [
       "  holiday    temp  rain_1h  snow_1h  clouds_all weather_main  \\\n",
       "0    None  288.28      0.0      0.0          40       Clouds   \n",
       "1    None  289.36      0.0      0.0          75       Clouds   \n",
       "2    None  289.58      0.0      0.0          90       Clouds   \n",
       "3    None  290.13      0.0      0.0          90       Clouds   \n",
       "4    None  291.14      0.0      0.0          75       Clouds   \n",
       "\n",
       "  weather_description            date_time  traffic_volume  \n",
       "0    scattered clouds  2012-10-02 09:00:00            5545  \n",
       "1       broken clouds  2012-10-02 10:00:00            4516  \n",
       "2     overcast clouds  2012-10-02 11:00:00            4767  \n",
       "3     overcast clouds  2012-10-02 12:00:00            5026  \n",
       "4       broken clouds  2012-10-02 13:00:00            4918  "
      ]
     },
     "execution_count": 270,
     "metadata": {},
     "output_type": "execute_result"
    }
   ],
   "source": [
    "traffic.head()"
   ]
  },
  {
   "cell_type": "code",
   "execution_count": 271,
   "metadata": {
    "colab": {
     "base_uri": "https://localhost:8080/",
     "height": 204
    },
    "id": "MRfB7r6ccO3a",
    "outputId": "5b4c0461-0ff0-4a8f-b9d1-32a413eec174"
   },
   "outputs": [
    {
     "data": {
      "text/html": [
       "<div>\n",
       "<style scoped>\n",
       "    .dataframe tbody tr th:only-of-type {\n",
       "        vertical-align: middle;\n",
       "    }\n",
       "\n",
       "    .dataframe tbody tr th {\n",
       "        vertical-align: top;\n",
       "    }\n",
       "\n",
       "    .dataframe thead th {\n",
       "        text-align: right;\n",
       "    }\n",
       "</style>\n",
       "<table border=\"1\" class=\"dataframe\">\n",
       "  <thead>\n",
       "    <tr style=\"text-align: right;\">\n",
       "      <th></th>\n",
       "      <th>holiday</th>\n",
       "      <th>temp</th>\n",
       "      <th>rain_1h</th>\n",
       "      <th>snow_1h</th>\n",
       "      <th>clouds_all</th>\n",
       "      <th>weather_main</th>\n",
       "      <th>weather_description</th>\n",
       "      <th>date_time</th>\n",
       "      <th>traffic_volume</th>\n",
       "    </tr>\n",
       "  </thead>\n",
       "  <tbody>\n",
       "    <tr>\n",
       "      <th>48199</th>\n",
       "      <td>None</td>\n",
       "      <td>283.45</td>\n",
       "      <td>0.0</td>\n",
       "      <td>0.0</td>\n",
       "      <td>75</td>\n",
       "      <td>Clouds</td>\n",
       "      <td>broken clouds</td>\n",
       "      <td>2018-09-30 19:00:00</td>\n",
       "      <td>3543</td>\n",
       "    </tr>\n",
       "    <tr>\n",
       "      <th>48200</th>\n",
       "      <td>None</td>\n",
       "      <td>282.76</td>\n",
       "      <td>0.0</td>\n",
       "      <td>0.0</td>\n",
       "      <td>90</td>\n",
       "      <td>Clouds</td>\n",
       "      <td>overcast clouds</td>\n",
       "      <td>2018-09-30 20:00:00</td>\n",
       "      <td>2781</td>\n",
       "    </tr>\n",
       "    <tr>\n",
       "      <th>48201</th>\n",
       "      <td>None</td>\n",
       "      <td>282.73</td>\n",
       "      <td>0.0</td>\n",
       "      <td>0.0</td>\n",
       "      <td>90</td>\n",
       "      <td>Thunderstorm</td>\n",
       "      <td>proximity thunderstorm</td>\n",
       "      <td>2018-09-30 21:00:00</td>\n",
       "      <td>2159</td>\n",
       "    </tr>\n",
       "    <tr>\n",
       "      <th>48202</th>\n",
       "      <td>None</td>\n",
       "      <td>282.09</td>\n",
       "      <td>0.0</td>\n",
       "      <td>0.0</td>\n",
       "      <td>90</td>\n",
       "      <td>Clouds</td>\n",
       "      <td>overcast clouds</td>\n",
       "      <td>2018-09-30 22:00:00</td>\n",
       "      <td>1450</td>\n",
       "    </tr>\n",
       "    <tr>\n",
       "      <th>48203</th>\n",
       "      <td>None</td>\n",
       "      <td>282.12</td>\n",
       "      <td>0.0</td>\n",
       "      <td>0.0</td>\n",
       "      <td>90</td>\n",
       "      <td>Clouds</td>\n",
       "      <td>overcast clouds</td>\n",
       "      <td>2018-09-30 23:00:00</td>\n",
       "      <td>954</td>\n",
       "    </tr>\n",
       "  </tbody>\n",
       "</table>\n",
       "</div>"
      ],
      "text/plain": [
       "      holiday    temp  rain_1h  snow_1h  clouds_all  weather_main  \\\n",
       "48199    None  283.45      0.0      0.0          75        Clouds   \n",
       "48200    None  282.76      0.0      0.0          90        Clouds   \n",
       "48201    None  282.73      0.0      0.0          90  Thunderstorm   \n",
       "48202    None  282.09      0.0      0.0          90        Clouds   \n",
       "48203    None  282.12      0.0      0.0          90        Clouds   \n",
       "\n",
       "          weather_description            date_time  traffic_volume  \n",
       "48199           broken clouds  2018-09-30 19:00:00            3543  \n",
       "48200         overcast clouds  2018-09-30 20:00:00            2781  \n",
       "48201  proximity thunderstorm  2018-09-30 21:00:00            2159  \n",
       "48202         overcast clouds  2018-09-30 22:00:00            1450  \n",
       "48203         overcast clouds  2018-09-30 23:00:00             954  "
      ]
     },
     "execution_count": 271,
     "metadata": {},
     "output_type": "execute_result"
    }
   ],
   "source": [
    "traffic.tail()"
   ]
  },
  {
   "cell_type": "markdown",
   "metadata": {
    "id": "xFuShg9scWjN"
   },
   "source": [
    "# General Distribution of Traffic Volume\n"
   ]
  },
  {
   "cell_type": "code",
   "execution_count": 272,
   "metadata": {},
   "outputs": [
    {
     "data": {
      "text/plain": [
       "count    48204.000000\n",
       "mean      3259.818355\n",
       "std       1986.860670\n",
       "min          0.000000\n",
       "25%       1193.000000\n",
       "50%       3380.000000\n",
       "75%       4933.000000\n",
       "max       7280.000000\n",
       "Name: traffic_volume, dtype: float64"
      ]
     },
     "execution_count": 272,
     "metadata": {},
     "output_type": "execute_result"
    }
   ],
   "source": [
    "traffic['traffic_volume'].describe()"
   ]
  },
  {
   "cell_type": "markdown",
   "metadata": {},
   "source": [
    "### Conclusions\n",
    "Traffic volume is calculated from 2012-10-02 to 2018-09-30.\n",
    "\n",
    "The values given above do not immediately suggest a normal distribution"
   ]
  },
  {
   "cell_type": "code",
   "execution_count": 273,
   "metadata": {},
   "outputs": [
    {
     "data": {
      "image/png": "[encoded data removed]",
      "text/plain": [
       "<Figure size 432x288 with 1 Axes>"
      ]
     },
     "metadata": {
      "needs_background": "light"
     },
     "output_type": "display_data"
    }
   ],
   "source": [
    "traffic['traffic_volume'].plot.hist()\n",
    "plt.xlabel('Number of Westbound Cars')\n",
    "plt.ylabel('Frequency of volume')\n",
    "plt.show()"
   ]
  },
  {
   "cell_type": "markdown",
   "metadata": {},
   "source": [
    "### Conclusions\n",
    "Two spikes at 0-500 cars and 4500-5000 cars suggests a night/day effect.\n",
    "\n",
    "Comparing night and day volumes is likely to be useful."
   ]
  },
  {
   "cell_type": "markdown",
   "metadata": {
    "id": "eyjiBakrcYV8"
   },
   "source": [
    "# Day / Night Distribution of Traffic Volume"
   ]
  },
  {
   "cell_type": "code",
   "execution_count": 274,
   "metadata": {},
   "outputs": [
    {
     "data": {
      "text/plain": [
       "dtype('O')"
      ]
     },
     "execution_count": 274,
     "metadata": {},
     "output_type": "execute_result"
    }
   ],
   "source": [
    "#Investigate type of the 'date_time' column\n",
    "traffic['date_time'].dtype"
   ]
  },
  {
   "cell_type": "code",
   "execution_count": 275,
   "metadata": {},
   "outputs": [],
   "source": [
    "#Convert to datetime\n",
    "traffic['date_time'] = pd.to_datetime(traffic['date_time'])"
   ]
  },
  {
   "cell_type": "code",
   "execution_count": 276,
   "metadata": {},
   "outputs": [
    {
     "data": {
      "text/plain": [
       "0   2012-10-02 09:00:00\n",
       "1   2012-10-02 10:00:00\n",
       "2   2012-10-02 11:00:00\n",
       "3   2012-10-02 12:00:00\n",
       "4   2012-10-02 13:00:00\n",
       "Name: date_time, dtype: datetime64[ns]"
      ]
     },
     "execution_count": 276,
     "metadata": {},
     "output_type": "execute_result"
    }
   ],
   "source": [
    "# Investigate new 'date_time' column\n",
    "traffic['date_time'].head()"
   ]
  },
  {
   "cell_type": "markdown",
   "metadata": {},
   "source": [
    "### Method\n",
    "1. use series.dt.hour to get the hours from the 'date_time' series.\n",
    "2. isolate daytime and nighttime data in new dataframes"
   ]
  },
  {
   "cell_type": "code",
   "execution_count": 277,
   "metadata": {},
   "outputs": [
    {
     "name": "stdout",
     "output_type": "stream",
     "text": [
      "count    23877.000000\n",
      "mean      4762.047452\n",
      "std       1174.546482\n",
      "min          0.000000\n",
      "25%       4252.000000\n",
      "50%       4820.000000\n",
      "75%       5559.000000\n",
      "max       7280.000000\n",
      "Name: traffic_volume, dtype: float64\n",
      "count    24327.000000\n",
      "mean      1785.377441\n",
      "std       1441.951197\n",
      "min          0.000000\n",
      "25%        530.000000\n",
      "50%       1287.000000\n",
      "75%       2819.000000\n",
      "max       6386.000000\n",
      "Name: traffic_volume, dtype: float64\n"
     ]
    }
   ],
   "source": [
    "# Day = 07:00 < t <= 19:00\n",
    "# Night = 19:00 < t <= 07.00\n",
    "\n",
    "day_slice = traffic.copy()[(traffic['date_time'].dt.hour >= 7) & (traffic['date_time'].dt.hour < 19)]\n",
    "night_slice = traffic.copy()[(traffic['date_time'].dt.hour >= 19) | (traffic['date_time'].dt.hour < 7)]\n",
    "print(day_slice['traffic_volume'].describe())\n",
    "print(night_slice['traffic_volume'].describe())\n"
   ]
  },
  {
   "cell_type": "code",
   "execution_count": 278,
   "metadata": {},
   "outputs": [
    {
     "data": {
      "image/png": "[encoded data removed]",
      "text/plain": [
       "<Figure size 720x216 with 2 Axes>"
      ]
     },
     "metadata": {
      "needs_background": "light"
     },
     "output_type": "display_data"
    }
   ],
   "source": [
    "plt.figure(figsize=(10,3)) # Make the plots a bit wider\n",
    "\n",
    "plt.subplot(1, 2, 1)\n",
    "plt.hist(day_slice['traffic_volume'])\n",
    "plt.xlabel('Vehicle Volume')\n",
    "plt.ylabel('Volume Frequency')\n",
    "plt.title('Day Time Traffic Volume')\n",
    "plt.ylim([0, 8000]) # Set the same in both plots to make comparison easier\n",
    "\n",
    "plt.subplot(1, 2, 2)\n",
    "plt.hist(night_slice['traffic_volume'])\n",
    "plt.xlabel('Vehicle Volume')\n",
    "plt.ylabel('Volume Frequency')\n",
    "plt.title('Night Time Traffic Volume')\n",
    "plt.ylim([0, 8000])\n",
    "\n",
    "plt.show()"
   ]
  },
  {
   "cell_type": "markdown",
   "metadata": {},
   "source": [
    "### Conclusions\n",
    "**Day time data** clearly has a nice normal distrubtion showing a very high volume peak which we would expect to match rush hour. Even though it is westbound traffic only, we can assume that most of the traffic which is on a time-based cycle will want to return home at some pointin the same day.\n",
    "\n",
    "Investigating traffic_volume on an hourly basis would be interesting.\n",
    "\n",
    "**Night time data** is nearly linear, perhaps monotonic. Traffic drops to basically nothing for most of the time. The surge at 3000 volume might be because we have the night time window set wrong.\n",
    "\n",
    "When analysing hourly distribution it might be necessary to change assumptions of day/night divide."
   ]
  },
  {
   "cell_type": "markdown",
   "metadata": {
    "id": "_QxijXUFdFwn"
   },
   "source": [
    "# Monthly Distribution of Traffic Volume\n",
    "\n",
    "### Method\n",
    "- Create a new month column\n",
    "- Groupby() the month column and plot each month."
   ]
  },
  {
   "cell_type": "code",
   "execution_count": 279,
   "metadata": {},
   "outputs": [
    {
     "data": {
      "text/plain": [
       "month\n",
       "1     4495.613727\n",
       "2     4711.198394\n",
       "3     4889.409560\n",
       "4     4906.894305\n",
       "5     4911.121609\n",
       "6     4898.019566\n",
       "7     4595.035744\n",
       "8     4928.302035\n",
       "9     4870.783145\n",
       "10    4921.234922\n",
       "11    4704.094319\n",
       "12    4374.834566\n",
       "Name: traffic_volume, dtype: float64"
      ]
     },
     "execution_count": 279,
     "metadata": {},
     "output_type": "execute_result"
    }
   ],
   "source": [
    "day_slice['month'] = day_slice['date_time'].dt.month\n",
    "by_month = day_slice.groupby(['month']).mean()\n",
    "by_month['traffic_volume']"
   ]
  },
  {
   "cell_type": "code",
   "execution_count": 280,
   "metadata": {},
   "outputs": [
    {
     "data": {
      "image/png": "[encoded data removed]",
      "text/plain": [
       "<Figure size 720x216 with 2 Axes>"
      ]
     },
     "metadata": {
      "needs_background": "light"
     },
     "output_type": "display_data"
    }
   ],
   "source": [
    "plt.figure(figsize=(10,3))\n",
    "plt.subplot(1,2,1)\n",
    "plt.plot(by_month['traffic_volume'])\n",
    "\n",
    "plt.subplot(1,2,2)\n",
    "plt.bar([1,2,3,4,5,6,7,8,9,10,11,12],by_month['traffic_volume'])\n",
    "# by_month['traffic_volume'].plot.bar()\n",
    "plt.show()"
   ]
  },
  {
   "cell_type": "markdown",
   "metadata": {},
   "source": [
    "Initially, it looks like July might be a really slow month for traffic - perhaps to do with holidays. However, it is unlikely holidays would result in a decrease of traffic if it's also the school holiday."
   ]
  },
  {
   "cell_type": "code",
   "execution_count": 294,
   "metadata": {},
   "outputs": [
    {
     "data": {
      "image/png": "[encoded data removed]",
      "text/plain": [
       "<Figure size 432x288 with 1 Axes>"
      ]
     },
     "metadata": {
      "needs_background": "light"
     },
     "output_type": "display_data"
    }
   ],
   "source": [
    "# New column containing only the year\n",
    "day_slice['year'] = day_slice['date_time'].dt.year\n",
    "\n",
    "# New df containing only rows captured in July\n",
    "by_july_annual = day_slice[day_slice['month'] == 7]\n",
    "\n",
    "# Group months of July by 'year' and calculate the mean of the traffic_volume\n",
    "# Then plot\n",
    "plt.plot(by_july_annual.groupby(['year']).mean()['traffic_volume'])\n",
    "plt.show()\n"
   ]
  },
  {
   "cell_type": "markdown",
   "metadata": {},
   "source": [
    "### Conclusions\n",
    "**Winter months** are quieter on the I-94, but only by about 10%.\n",
    "\n",
    "**July 2016** only shows a considerable drop. This might be due to construction."
   ]
  },
  {
   "cell_type": "markdown",
   "metadata": {
    "id": "n2hLBIqCdJSZ"
   },
   "source": [
    "# Daily Distribution of Traffic Volume"
   ]
  },
  {
   "cell_type": "code",
   "execution_count": null,
   "metadata": {},
   "outputs": [],
   "source": [
    "traffic['day_of_week'] = day_slice['date_time'].dt.dayofweek\n",
    "by_day = traffic.groupby(['day_of_week']).mean()\n",
    "by_day['traffic_volume']"
   ]
  },
  {
   "cell_type": "code",
   "execution_count": 297,
   "metadata": {},
   "outputs": [
    {
     "data": {
      "image/png": "[encoded data removed]",
      "text/plain": [
       "<Figure size 864x216 with 2 Axes>"
      ]
     },
     "metadata": {
      "needs_background": "light"
     },
     "output_type": "display_data"
    }
   ],
   "source": [
    "plt.figure(figsize=(12,3))\n",
    "plt.subplot(1,2,1)\n",
    "plt.plot(by_day['traffic_volume'])\n",
    "plt.xticks(range(7),('Mon','Tue','Wed','Thu','Fri','Sat','Sun'))\n",
    "\n",
    "plt.subplot(1,2,2)\n",
    "plt.bar(['Mon','Tue','Wed','Thu','Fri','Sat','Sun'],by_day['traffic_volume'])\n",
    "plt.show()"
   ]
  },
  {
   "cell_type": "markdown",
   "metadata": {},
   "source": [
    "### Conclusions\n",
    "**Weekends** are clearly periods of lower traffic volume. However, it is not such a significant difference that we can conclude the majority of the traffic on the road is commuter traffic. But it is enough to explain the similar drop in July."
   ]
  },
  {
   "cell_type": "markdown",
   "metadata": {
    "id": "ofm0TAXFdPpG"
   },
   "source": [
    "# Hourly Distribution of Traffic Volume"
   ]
  },
  {
   "cell_type": "code",
   "execution_count": null,
   "metadata": {},
   "outputs": [],
   "source": [
    "# New column containing only the hour for the row\n",
    "day_slice['hour'] = day_slice['date_time'].dt.hour\n",
    "\n",
    "# New column containing only the hour for the row\n",
    "day_slice['dayofweek'] = day_slice['date_time'].dt.dayofweek\n",
    "\n",
    "# Copy days Monday-Friday to a new dataframe\n",
    "business_days = day_slice.copy()[day_slice['dayofweek'] <= 4] # 4 == Friday\n",
    "\n",
    "# Copy days Saturday-Sunday to a new dataframe\n",
    "weekend = day_slice.copy()[day_slice['dayofweek'] >= 5] # 5 = Saturday\n",
    "\n",
    "# New dataframe of mean traffic_volume for each day time hour\n",
    "by_hour_business = business_days.groupby('hour').mean()\n",
    "by_hour_weekend = weekend.groupby('hour').mean()"
   ]
  },
  {
   "cell_type": "code",
   "execution_count": 296,
   "metadata": {},
   "outputs": [
    {
     "data": {
      "image/png": "[encoded data removed]",
      "text/plain": [
       "<Figure size 792x252 with 2 Axes>"
      ]
     },
     "metadata": {
      "needs_background": "light"
     },
     "output_type": "display_data"
    }
   ],
   "source": [
    "plt.figure(figsize=(11,3.5))\n",
    "\n",
    "plt.subplot(1, 2, 1)\n",
    "plt.plot(by_hour_business['traffic_volume'])\n",
    "plt.xlim(6,20)\n",
    "plt.ylim(1500,6500)\n",
    "plt.title('Traffic Volume By Hour: Monday–Friday')\n",
    "\n",
    "plt.subplot(1, 2, 2)\n",
    "plt.plot(by_hour_weekend['traffic_volume'])\n",
    "plt.xlim(6,20)\n",
    "plt.ylim(1500,6500)\n",
    "plt.title('Traffic Volume By Hour: Weekend')\n",
    "\n",
    "plt.show()"
   ]
  },
  {
   "cell_type": "markdown",
   "metadata": {},
   "source": [
    "### Conclusions\n",
    "\n",
    "In general, there is a small increase in traffic on working days. On working days there is the expected surge at 07:00 and 16:00 corresponding to commutes.\n",
    "\n",
    "## Summary\n",
    "\n",
    "- Volume is greater in the summer months.\n",
    "- Volume is greater on week days.\n",
    "- Volume increases at 07:00 and 16:00 corresponding to expected commuting window."
   ]
  },
  {
   "cell_type": "markdown",
   "metadata": {
    "id": "S-7e4v1IdbMi"
   },
   "source": [
    "# Correlation: Traffic Volume and Weather\n",
    "\n",
    "## Continuous variables: \n",
    "- temp\n",
    "- rain_1h\n",
    "- snow_1h\n",
    "- clouds_all"
   ]
  },
  {
   "cell_type": "markdown",
   "metadata": {
    "id": "bnaKizuldti_"
   },
   "source": [
    "# Correlation: Traffic Volume and Weather\n",
    "\n",
    "## Categorical variables:\n",
    "- weather_main\n",
    "- weather_description"
   ]
  }
 ],
 "metadata": {
  "colab": {
   "authorship_tag": "ABX9TyPmSUuostnFWdix4qEyBktP",
   "collapsed_sections": [],
   "include_colab_link": true,
   "name": "gp4_i94_traffic.ipynb",
   "provenance": []
  },
  "kernelspec": {
   "display_name": "jpython",
   "language": "python",
   "name": "jpython"
  },
  "language_info": {
   "codemirror_mode": {
    "name": "ipython",
    "version": 3
   },
   "file_extension": ".py",
   "mimetype": "text/x-python",
   "name": "python",
   "nbconvert_exporter": "python",
   "pygments_lexer": "ipython3",
   "version": "3.9.2"
  }
 },
 "nbformat": 4,
 "nbformat_minor": 4
}
